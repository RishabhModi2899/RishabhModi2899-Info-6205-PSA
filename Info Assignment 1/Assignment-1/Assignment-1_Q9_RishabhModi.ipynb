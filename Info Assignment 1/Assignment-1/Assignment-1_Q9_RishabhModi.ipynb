{
 "cells": [
  {
   "cell_type": "markdown",
   "source": [
    "                                                        @Authour : Rishabh Modi \r\n",
    "                                                        Professor : Nik Brown \r\n",
    "                                                        Info 6205 PSA Assignment 1 Q9.A\r\n",
    "                                                        Gale Shapley Implementation \r\n",
    "                                                        Code Written from scratch\r\n"
   ],
   "metadata": {}
  },
  {
   "cell_type": "code",
   "execution_count": 1,
   "source": [
    "def initNull(free_teams_1 , Preference_dict_1):\r\n",
    "    ''' This function initializes every team from super group 1 as null '''\r\n",
    "    for free_team in Preference_dict_1.keys(): \r\n",
    "        free_teams_1.append(free_team)"
   ],
   "outputs": [],
   "metadata": {}
  },
  {
   "cell_type": "code",
   "execution_count": 2,
   "source": [
    "def highest_preference(pairings , free_teams_1 , team , Preference_dict_1 , Preference_dict_2):\r\n",
    "    ''' This function finds an available team from the super group 2 at any given time '''\r\n",
    "    for free_team in Preference_dict_1[team]:\r\n",
    "\r\n",
    "        #Check if the team from group 2 is available or not \r\n",
    "        current_match = [match for match in pairings if free_team in match]\r\n",
    "\r\n",
    "        if (len(current_match) == 0):\r\n",
    "            pairings.append([team , free_team])\r\n",
    "            free_teams_1.remove(team)\r\n",
    "            break \r\n",
    "\r\n",
    "        elif (len(current_match) > 0):        \r\n",
    "            current_match_index = Preference_dict_2[free_team].index(current_match[0][0])\r\n",
    "            free_team_index = Preference_dict_2[free_team].index(team)\r\n",
    "            \r\n",
    "            if (current_match_index < free_team_index):\r\n",
    "                None\r\n",
    "            else:\r\n",
    "                free_teams_1.remove(team)\r\n",
    "                free_teams_1.append(current_match[0][0])\r\n",
    "                current_match[0][0] = team\r\n",
    "                break"
   ],
   "outputs": [],
   "metadata": {}
  },
  {
   "cell_type": "code",
   "execution_count": 3,
   "source": [
    "def GaleShapley(pairings , free_teams_1 , inp1 , inp2):\r\n",
    "    ''' Function to generate the matching '''\r\n",
    "    while(len(free_teams_1) > 0):\r\n",
    "        for team in free_teams_1:\r\n",
    "            highest_preference(pairings , free_teams_1 , team , inp1 , inp2)"
   ],
   "outputs": [],
   "metadata": {}
  },
  {
   "cell_type": "code",
   "execution_count": 4,
   "source": [
    "#Driver Code\r\n",
    "\r\n",
    "Preference_dict_1 = {\r\n",
    "'t1': ['s1', 's3', 's4', 's5', 's6', 's7', 's8', 's2'],\r\n",
    "'t2': ['s3', 's4', 's5', 's6', 's7', 's8', 's1', 's2'],\r\n",
    "'t3': ['s4', 's5', 's6', 's7', 's8', 's1', 's2', 's3'],\r\n",
    "'t4': ['s5', 's6', 's7', 's8', 's1', 's2', 's3', 's4'],\r\n",
    "'t5': ['s6', 's7', 's8', 's1', 's2', 's3', 's4', 's5'],\r\n",
    "'t6': ['s7', 's8', 's1', 's2', 's3', 's4', 's5', 's6'],\r\n",
    "'t7': ['s8', 's1', 's2', 's3', 's4', 's5', 's6', 's7'],\r\n",
    "'t8': ['s1', 's2', 's3', 's4', 's5', 's6', 's7', 's8']\r\n",
    "}  # Preferences of each team from super group 1\r\n",
    "Preference_dict_2 = {\r\n",
    "    's1': ['t2', 't3', 't4', 't5', 't6', 't7', 't8', 't1'],\r\n",
    "    's2': ['t3', 't4', 't5', 't6', 't7', 't8', 't1', 't2'],\r\n",
    "    's3': ['t4', 't5', 't6', 't7', 't8', 't1', 't2', 't3'],\r\n",
    "    's4': ['t5', 't6', 't7', 't8', 't1', 't2', 't3', 't4'],\r\n",
    "    's5': ['t6', 't7', 't8', 't1', 't2', 't3', 't4', 't5'],\r\n",
    "    's6': ['t7', 't8', 't1', 't2', 't3', 't4', 't5', 't6'],\r\n",
    "    's7': ['t8', 't1', 't2', 't3', 't4', 't5', 't6', 't7'],\r\n",
    "    's8': ['t1', 't2', 't3', 't4', 't5', 't6', 't7', 't8']\r\n",
    "}  # Preferences of each team from super group 2\r\n",
    "free_teams_1 = [] #list of all the free teams for super group 1\r\n",
    "\r\n",
    "def main_A(Preference_dict_1 , Preference_dict_2 , free_teams_1):\r\n",
    "    ''' Driver Function ''' \r\n",
    "\r\n",
    "    pairings = [] #Keep track of teams that might match\r\n",
    "\r\n",
    "    initNull(free_teams_1 , Preference_dict_1)\r\n",
    "    GaleShapley(pairings , free_teams_1 , Preference_dict_1 , Preference_dict_2)\r\n",
    "    return pairings\r\n",
    "\r\n",
    "res = main_A(Preference_dict_1 , Preference_dict_2 , free_teams_1) \r\n",
    "print(res)"
   ],
   "outputs": [
    {
     "output_type": "stream",
     "name": "stdout",
     "text": [
      "[['t7', 's1'], ['t2', 's4'], ['t4', 's6'], ['t6', 's8'], ['t1', 's3'], ['t5', 's7'], ['t3', 's5'], ['t8', 's2']]\n"
     ]
    }
   ],
   "metadata": {}
  },
  {
   "cell_type": "markdown",
   "source": [
    "                                                        Info 6205 PSA Q9.B \r\n",
    "                                                        Code written from scratch"
   ],
   "metadata": {}
  },
  {
   "cell_type": "code",
   "execution_count": 5,
   "source": [
    "import random \r\n",
    "\r\n",
    "def shuffle(dictionary):\r\n",
    "    ''' This function takes a dictionary as an object and shuffles the preference \r\n",
    "    list of each team in it. '''\r\n",
    "\r\n",
    "    for team in dictionary.keys():\r\n",
    "        list_ = dictionary[team]\r\n",
    "\r\n",
    "        i = 0\r\n",
    "        while (i < 1000):\r\n",
    "            random.shuffle(list_)\r\n",
    "            i = i + 1\r\n",
    "\r\n",
    "    return dictionary"
   ],
   "outputs": [],
   "metadata": {}
  },
  {
   "cell_type": "code",
   "execution_count": 6,
   "source": [
    "def countStableMatches(dictionary_pairs , Preference_dict_1 , Preference_dict_2):\r\n",
    "    ''' This function takes in a dictionary as input and countes the number of stable pairs , \r\n",
    "        Stable Match is a match where both the partners in the match prefer each and not some other candidate '''\r\n",
    "    stableMatchCount = 0\r\n",
    "    totalMatch = 0\r\n",
    "\r\n",
    "    for iter_var in dictionary_pairs.keys():\r\n",
    "        team_1 = dictionary_pairs[iter_var] # Team from super group 1\r\n",
    "        team_2 = iter_var # Team from super group 2\r\n",
    "        \r\n",
    "        list_tmp_2 = None\r\n",
    "        for iter_var in Preference_dict_1.keys():\r\n",
    "            list_tmp_1 = None\r\n",
    "            if iter_var == team_1:\r\n",
    "                list_tmp_1 = Preference_dict_1[iter_var] # List of teams from group 2 initialised\r\n",
    "                index1 = list_tmp_1.index(team_2)\r\n",
    "                if index1 == 0:\r\n",
    "                    # This is highest preference\r\n",
    "                    stableMatchCount += 1\r\n",
    "                    totalMatch += 1\r\n",
    "                else:\r\n",
    "                    # This is not highest preference\r\n",
    "                    for iter_var_1 in Preference_dict_2.keys():\r\n",
    "                        if iter_var_1 == team_2:\r\n",
    "                            list_tmp_2 = Preference_dict_2[iter_var_1] # List of teams from group 1 initialised\r\n",
    "                            index2 = list_tmp_2.index(team_1)\r\n",
    "                            if index2 == 0:\r\n",
    "                                # This is highest preference\r\n",
    "                                stableMatchCount += 1\r\n",
    "                                totalMatch += 1\r\n",
    "                            else:\r\n",
    "                                # This is not highest preference\r\n",
    "                                totalMatch += 1\r\n",
    "            \r\n",
    "    return stableMatchCount , totalMatch"
   ],
   "outputs": [],
   "metadata": {}
  },
  {
   "cell_type": "code",
   "execution_count": 7,
   "source": [
    "def calcPercentage(inp1 , inp2):\r\n",
    "    ''' Function to calculate the percentage of stable playoff matches '''\r\n",
    "    \r\n",
    "    percentage = ((inp1 / inp2) * 100)\r\n",
    "    return percentage"
   ],
   "outputs": [],
   "metadata": {}
  },
  {
   "cell_type": "code",
   "execution_count": 8,
   "source": [
    "def listToDict(listInput):\r\n",
    "    ''' Function to create a list to dictionary '''\r\n",
    "\r\n",
    "    dict_ = {}\r\n",
    "    for i in listInput:\r\n",
    "        for j in range(0 , (len(i) - 1)):\r\n",
    "            dict_[ i[j + 1] ] = i[j]\r\n",
    "            break\r\n",
    "        \r\n",
    "    return dict_"
   ],
   "outputs": [],
   "metadata": {}
  },
  {
   "cell_type": "code",
   "execution_count": 9,
   "source": [
    "# Driver Code\r\n",
    "\r\n",
    "def main_B():\r\n",
    "    ''' Driver Function '''\r\n",
    "\r\n",
    "    mod_Preference_dict_1 = {\r\n",
    "    't1': ['s1', 's3', 's4', 's5', 's6', 's7', 's8', 's2'],\r\n",
    "    't2': ['s3', 's4', 's5', 's6', 's7', 's8', 's1', 's2'],\r\n",
    "    't3': ['s4', 's5', 's6', 's7', 's8', 's1', 's2', 's3'],\r\n",
    "    't4': ['s5', 's6', 's7', 's8', 's1', 's2', 's3', 's4'],\r\n",
    "    't5': ['s6', 's7', 's8', 's1', 's2', 's3', 's4', 's5'],\r\n",
    "    't6': ['s7', 's8', 's1', 's2', 's3', 's4', 's5', 's6'],\r\n",
    "    't7': ['s8', 's1', 's2', 's3', 's4', 's5', 's6', 's7'],\r\n",
    "    't8': ['s1', 's2', 's3', 's4', 's5', 's6', 's7', 's8']\r\n",
    "    }  # Preferences of each team from super group 1\r\n",
    "    mod_Preference_dict_2 = {\r\n",
    "        's1': ['t2', 't3', 't4', 't5', 't6', 't7', 't8', 't1'],\r\n",
    "        's2': ['t3', 't4', 't5', 't6', 't7', 't8', 't1', 't2'],\r\n",
    "        's3': ['t4', 't5', 't6', 't7', 't8', 't1', 't2', 't3'],\r\n",
    "        's4': ['t5', 't6', 't7', 't8', 't1', 't2', 't3', 't4'],\r\n",
    "        's5': ['t6', 't7', 't8', 't1', 't2', 't3', 't4', 't5'],\r\n",
    "        's6': ['t7', 't8', 't1', 't2', 't3', 't4', 't5', 't6'],\r\n",
    "        's7': ['t8', 't1', 't2', 't3', 't4', 't5', 't6', 't7'],\r\n",
    "        's8': ['t1', 't2', 't3', 't4', 't5', 't6', 't7', 't8']\r\n",
    "    }  # Preferences of each team from super group 2\r\n",
    "    mod_free_teams_1 = [] #list of all the free teams for super group 1\r\n",
    "\r\n",
    "    new_dictionary_1 = shuffle(mod_Preference_dict_1)\r\n",
    "    new_dictionary_2 = shuffle(mod_Preference_dict_2)\r\n",
    "\r\n",
    "    print(\"New Preference Dictionary 1 : \" , new_dictionary_1)\r\n",
    "    print(\"\\n\")\r\n",
    "    print(\"New Preference Dictionary 2 : \" , new_dictionary_2)\r\n",
    "    print(\"\\n\")\r\n",
    "\r\n",
    "    res_pairs = main_A(mod_Preference_dict_1 , mod_Preference_dict_2 , mod_free_teams_1) # if the call made to main_A() in the above cell is not commented then this section will not run , so comment that call first and then run this section\r\n",
    "\r\n",
    "    pairings_dict = listToDict(res_pairs)\r\n",
    "    \r\n",
    "    numStableMatches, totalMatches = countStableMatches(pairings_dict , new_dictionary_1 , new_dictionary_2)\r\n",
    "    percentRes = calcPercentage(numStableMatches , totalMatches)\r\n",
    "    print(\"The percentage of stable playoff matches is = \" , percentRes , \"%\")\r\n",
    "\r\n",
    "main_B()"
   ],
   "outputs": [
    {
     "output_type": "stream",
     "name": "stdout",
     "text": [
      "New Preference Dictionary 1 :  {'t1': ['s7', 's5', 's2', 's8', 's4', 's3', 's6', 's1'], 't2': ['s8', 's3', 's2', 's5', 's6', 's7', 's4', 's1'], 't3': ['s1', 's5', 's8', 's6', 's4', 's3', 's7', 's2'], 't4': ['s8', 's2', 's3', 's5', 's4', 's7', 's1', 's6'], 't5': ['s1', 's3', 's7', 's5', 's2', 's6', 's4', 's8'], 't6': ['s6', 's2', 's3', 's1', 's7', 's8', 's4', 's5'], 't7': ['s8', 's4', 's3', 's2', 's5', 's7', 's1', 's6'], 't8': ['s3', 's1', 's8', 's2', 's4', 's6', 's5', 's7']}\n",
      "\n",
      "\n",
      "New Preference Dictionary 2 :  {'s1': ['t8', 't3', 't2', 't4', 't7', 't6', 't5', 't1'], 's2': ['t3', 't8', 't7', 't1', 't6', 't5', 't2', 't4'], 's3': ['t5', 't8', 't6', 't1', 't4', 't2', 't7', 't3'], 's4': ['t5', 't8', 't3', 't4', 't7', 't2', 't6', 't1'], 's5': ['t4', 't7', 't5', 't1', 't2', 't8', 't3', 't6'], 's6': ['t2', 't1', 't3', 't4', 't5', 't7', 't6', 't8'], 's7': ['t6', 't8', 't5', 't7', 't3', 't1', 't2', 't4'], 's8': ['t4', 't5', 't6', 't8', 't1', 't2', 't3', 't7']}\n",
      "\n",
      "\n",
      "The percentage of stable playoff matches is =  62.5 %\n"
     ]
    }
   ],
   "metadata": {}
  },
  {
   "cell_type": "markdown",
   "source": [
    "                                                        @Authour : Rishabh Modi \r\n",
    "                                                        Professor : Nik Brown \r\n",
    "                                                        Info 6205 PSA Assignment 1 Q9.E\r\n",
    "                                                        All the code is written from scratch"
   ],
   "metadata": {}
  },
  {
   "cell_type": "code",
   "execution_count": 10,
   "source": [
    "new_Preference_dict_1 = {\r\n",
    "    't1': ['s2', 's3', 's4', 's5', 's6', 's7', 's8', 's9', 's10', 's11', 's12', 's13', 's14' , 's15', 's16', 's1'],\r\n",
    "    't2': ['s3', 's4', 's5', 's6', 's7', 's8', 's9', 's10', 's11', 's12', 's13', 's14' , 's15', 's16', 's1', 's2'],\r\n",
    "    't3': ['s4', 's5', 's6', 's7', 's8', 's9', 's10', 's11', 's12', 's13', 's14' , 's15', 's16', 's1', 's2', 's3'],\r\n",
    "    't4': ['s5', 's6', 's7', 's8', 's9', 's10', 's11', 's12', 's13', 's14' , 's15', 's16', 's1', 's2', 's3', 's4'],\r\n",
    "    't5': ['s6', 's7', 's8', 's9', 's10', 's11', 's12', 's13', 's14' , 's15', 's16', 's1', 's2', 's3', 's4', 's5'],\r\n",
    "    't6': ['s7', 's8', 's9', 's10', 's11', 's12', 's13', 's14' , 's15', 's16', 's1', 's2', 's3', 's4', 's5', 's6'],\r\n",
    "    't7': ['s8', 's9', 's10', 's11', 's12', 's13', 's14' , 's15', 's16', 's1', 's2', 's3', 's4', 's5', 's6', 's7'],\r\n",
    "    't8': ['s9', 's10', 's11', 's12', 's13', 's14' , 's15', 's16', 's1', 's2', 's3', 's4', 's5', 's6', 's7', 's8'],\r\n",
    "    't9': ['s10', 's11', 's12', 's13', 's14' , 's15', 's16', 's1', 's2', 's3', 's4', 's5', 's6', 's7', 's8', 's9'],\r\n",
    "    't10': ['s11', 's12', 's13', 's14' , 's15', 's16', 's1', 's2', 's3', 's4', 's5', 's6', 's7', 's8', 's9', 's10'],\r\n",
    "    't11': ['s12', 's13', 's14' , 's15', 's16', 's1', 's2', 's3', 's4', 's5', 's6', 's7', 's8', 's9', 's10', 's11'],\r\n",
    "    't12': ['s13', 's14' , 's15', 's16', 's1', 's2', 's3', 's4', 's5', 's6', 's7', 's8', 's9', 's10', 's11', 's12'],\r\n",
    "    't13': ['s14' , 's15', 's16', 's1', 's2', 's3', 's4', 's5', 's6', 's7', 's8', 's9', 's10', 's11', 's12', 's13'],\r\n",
    "    't14': ['s15', 's16', 's1', 's2', 's3', 's4', 's5', 's6', 's7', 's8', 's9', 's10', 's11', 's12', 's13', 's14'],\r\n",
    "    't15': ['s16', 's1', 's2', 's3', 's4', 's5', 's6', 's7', 's8', 's9', 's10', 's11', 's12', 's13', 's14', 's15'],\r\n",
    "    't16': ['s1', 's2', 's3', 's4', 's5', 's6', 's7', 's8', 's9', 's10', 's11', 's12', 's13', 's14', 's15', 's16']  \r\n",
    "}\r\n",
    "new_Preference_dict_2 = {\r\n",
    "    's1': ['t2', 't3', 't4', 't5', 't6', 't7', 't8', 't9', 't10', 't11', 't12', 't13', 't14' , 't15', 't16', 't1'],\r\n",
    "    's2': ['t3', 't4', 't5', 't6', 't7', 't8', 't9', 't10', 't11', 't12', 't13', 't14' , 't15', 't16', 't1', 't2'],\r\n",
    "    's3': ['t4', 't5', 't6', 't7', 't8', 't9', 't10', 't11', 't12', 't13', 't14' , 't15', 't16', 't1', 't2', 't3'],\r\n",
    "    's4': ['t5', 't6', 't7', 't8', 't9', 't10', 't11', 't12', 't13', 't14' , 't15', 't16', 't1', 't2', 't3', 't4'],\r\n",
    "    's5': ['t6', 't7', 't8', 't9', 't10', 't11', 't12', 't13', 't14' , 't15', 't16', 't1', 't2', 't3', 't4', 't5'],\r\n",
    "    's6': ['t7', 't8', 't9', 't10', 't11', 't12', 't13', 't14' , 't15', 't16', 't1', 't2', 't3', 't4', 't5', 't6'],\r\n",
    "    's7': ['t8', 't9', 't10', 't11', 't12', 't13', 't14' , 't15', 't16', 't1', 't2', 't3', 't4', 't5', 't6', 't7'],\r\n",
    "    's8': ['t9', 't10', 't11', 't12', 't13', 't14' , 't15', 't16', 't1', 't2', 't3', 't4', 't5', 't6', 't7', 't8'],\r\n",
    "    's9': ['t10', 't11', 't12', 't13', 't14' , 't15', 't16', 't1', 't2', 't3', 't4', 't5', 't6', 't7', 't8', 't9'],\r\n",
    "    's10': ['t11', 't12', 't13', 't14' , 't15', 't16', 't1', 't2', 't3', 't4', 't5', 't6', 't7', 't8', 't9', 't10'],\r\n",
    "    's11': ['t12', 't13', 't14' , 't15', 't16', 't1', 't2', 't3', 't4', 't5', 't6', 't7', 't8', 't9', 't10', 't11'],\r\n",
    "    's12': ['t13', 't14' , 't15', 't16', 't1', 't2', 't3', 't4', 't5', 't6', 't7', 't8', 't9', 't10', 't11', 't12'],\r\n",
    "    's13': ['t14' , 't15', 't16', 't1', 't2', 't3', 't4', 't5', 't6', 't7', 't8', 't9', 't10', 't11', 't12', 't13'],\r\n",
    "    's14': ['t15', 't16', 't1', 't2', 't3', 't4', 't5', 't6', 't7', 't8', 't9', 't10', 't11', 't12', 't13', 't14'],\r\n",
    "    's15': ['t16', 't1', 't2', 't3', 't4', 't5', 't6', 't7', 't8', 't9', 't10', 't11', 't12', 't13', 't14', 't15'],\r\n",
    "    's16': ['t1', 't2', 't3', 't4', 't5', 't6', 't7', 't8', 't9', 't10', 't11', 't12', 't13', 't14', 't15', 't16']  \r\n",
    "}\r\n",
    "new_free_teams = []"
   ],
   "outputs": [],
   "metadata": {}
  },
  {
   "cell_type": "code",
   "execution_count": 11,
   "source": [
    "result1 = main_A(Preference_dict_1 , Preference_dict_2 , free_teams_1) \r\n",
    "print(\"Before the dictionaries were modified : \" , result1)"
   ],
   "outputs": [
    {
     "output_type": "stream",
     "name": "stdout",
     "text": [
      "Before the dictionaries were modified :  [['t7', 's1'], ['t2', 's4'], ['t4', 's6'], ['t6', 's8'], ['t1', 's3'], ['t5', 's7'], ['t3', 's5'], ['t8', 's2']]\n"
     ]
    }
   ],
   "metadata": {}
  },
  {
   "cell_type": "code",
   "execution_count": 12,
   "source": [
    "def main_E():\r\n",
    "    ''' This function containes the driver code for the Question 9 E '''\r\n",
    "\r\n",
    "    result = main_A(new_Preference_dict_1 , new_Preference_dict_2 , new_free_teams)\r\n",
    "    return result\r\n",
    "\r\n",
    "result2 = main_E() # Call to print the pairings after the preference dictionary is changed\r\n",
    "\r\n",
    "print(\"After the Dictionaries were modified : \" , result2)"
   ],
   "outputs": [
    {
     "output_type": "stream",
     "name": "stdout",
     "text": [
      "After the Dictionaries were modified :  [['t1', 's2'], ['t3', 's4'], ['t5', 's6'], ['t7', 's8'], ['t9', 's10'], ['t11', 's12'], ['t13', 's14'], ['t15', 's16'], ['t2', 's3'], ['t6', 's7'], ['t10', 's11'], ['t14', 's15'], ['t4', 's5'], ['t12', 's13'], ['t8', 's9'], ['t16', 's1']]\n"
     ]
    }
   ],
   "metadata": {}
  }
 ],
 "metadata": {
  "orig_nbformat": 4,
  "language_info": {
   "name": "python",
   "version": "3.7.3",
   "mimetype": "text/x-python",
   "codemirror_mode": {
    "name": "ipython",
    "version": 3
   },
   "pygments_lexer": "ipython3",
   "nbconvert_exporter": "python",
   "file_extension": ".py"
  },
  "kernelspec": {
   "name": "python3",
   "display_name": "Python 3.7.3 64-bit ('base': conda)"
  },
  "interpreter": {
   "hash": "abbcd3f5fdaa256913b3ca3b0b7a9e26bed4384c2b207fd09eda27f7658b7fc3"
  }
 },
 "nbformat": 4,
 "nbformat_minor": 2
}